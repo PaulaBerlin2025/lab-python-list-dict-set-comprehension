{
 "cells": [
  {
   "cell_type": "markdown",
   "id": "25d7736c-ba17-4aff-b6bb-66eba20fbf4e",
   "metadata": {},
   "source": [
    "# Lab | List, Dict and Set Comprehension"
   ]
  },
  {
   "cell_type": "markdown",
   "id": "7dd3cbde-675a-4b81-92c3-f728846dbe06",
   "metadata": {},
   "source": [
    "## Exercise: Managing Customer Orders Optimized with Comprehension"
   ]
  },
  {
   "cell_type": "code",
   "execution_count": null,
   "id": "bed5a1ac-0336-4531-a4bb-93e063d9f9ec",
   "metadata": {},
   "outputs": [],
   "source": [
    "In the previous exercise, you developed a program to manage customer orders and inventory. Now, let's take it a step further and incorporate comprehension into your code.\n",
    "\n",
    "Follow the steps below to complete the exercise:\n",
    "\n",
    "Review your code from the previous exercise and identify areas where you can apply comprehension to simplify and streamline your code.\n",
    "\n",
    "Hint: Apply it to initialize inventory, updating the inventory and printing the updated inventory.\n",
    "\n",
    "For example, in initializing the inventory, we could have:\n",
    "\n",
    "def initialize_inventory(products):\n",
    "    inventory = {product: int(input(f\"Enter the quantity of {product}s available: \")) for product in products}\n",
    "    return inventory\n",
    "\n",
    "Modify the function get_customer_orders so it prompts the user to enter the number of customer orders and gathers the product names using a loop and user input. Use comprehension.\n",
    "\n",
    "Add a new function to calculate the total price of the customer order. For each product in customer_orders, prompt the user to enter the price of that product. Use comprehension to calculate the total price. Note: assume that the user can only have 1 unit of each product.\n",
    "\n",
    "Modify the update_inventory function to remove the product from the inventory if its quantity becomes zero after fulfilling the customer orders. Use comprehension to filter out the products with a quantity of zero from the inventory.\n",
    "\n",
    "Print the total price of the customer order.\n",
    "\n",
    "Your code should produce output similar to the following:\n",
    "\n",
    "Enter the quantity of t-shirts available:  5\n",
    "Enter the quantity of mugs available:  4\n",
    "Enter the quantity of hats available:  3\n",
    "Enter the quantity of books available:  2\n",
    "Enter the quantity of keychains available:  1\n",
    "Enter the number of customer orders:  2\n",
    "Enter the name of a product that a customer wants to order:  hat\n",
    "Enter the name of a product that a customer wants to order:  keychain\n",
    "\n",
    "Order Statistics:\n",
    "Total Products Ordered: 2\n",
    "Percentage of Unique Products Ordered: 40.0\n",
    "\n",
    "Updated Inventory:\n",
    "t-shirt: 5\n",
    "mug: 4\n",
    "hat: 2\n",
    "book: 2\n",
    "Enter the price of keychain:  5\n",
    "Enter the price of hat:  10\n",
    "Total Price: 15.0"
   ]
  },
  {
   "cell_type": "code",
   "execution_count": null,
   "id": "8de4e5a9-f5cc-4678-8dce-b08485334696",
   "metadata": {},
   "outputs": [],
   "source": [
    "#1 \n",
    "def initialize_inventory(products):\n",
    "    inventory= {product: int(input(f\"Enter the quantity for {product}: \")) for product in products}\n",
    "    return inventory\n",
    "\n",
    "\n",
    "def update_inventory(customer_orders, inventory):\n",
    "    for ordered_product in customer_orders:\n",
    "        if ordered_product in inventory:\n",
    "            inventory[ordered_product] = max(0, inventory[ordered_product] - 1)\n",
    "        else:\n",
    "            print(f\"Error: {ordered_product} is not in the inventory.\")\n",
    "\n",
    "def print_updated_inventory(inventory):\n",
    "    print(\"Updated Inventory:\")\n",
    "    print(\"\\n\".join([f\"{product}: {quantity}\" for product, quantity in inventory.items()]))\n",
    "\n"
   ]
  },
  {
   "cell_type": "code",
   "execution_count": null,
   "id": "2da17a45-2b8c-4454-94b4-57976dedfa14",
   "metadata": {},
   "outputs": [],
   "source": [
    "#2\n",
    "def get_customer_orders(products):\n",
    "    num_orders = int(input(f\"Enter the number of products the customer wants to order: \"))\n",
    "    customer_orders = [input(f\"Enter product name {i+1} from {products}: \") for i in range(num_orders) if input(f\"Enter product name {i+1} from {products}: \") in products]\n",
    "    \n",
    "    return set(customer_orders)"
   ]
  },
  {
   "cell_type": "code",
   "execution_count": null,
   "id": "8ada4e22-1ead-4f41-aa11-f44929483c48",
   "metadata": {},
   "outputs": [],
   "source": [
    "#3\n",
    "def calculate_total_price(customer_orders):\n",
    "    total_price = sum([float(input(f\"Enter the price for {product}: \")) for product in customer_orders])\n",
    "    \n",
    "    return total_price\n"
   ]
  },
  {
   "cell_type": "code",
   "execution_count": null,
   "id": "84826b3a-a093-4a2a-b163-899c8640a954",
   "metadata": {},
   "outputs": [],
   "source": [
    "#4\n",
    "def update_inventory(customer_orders, inventory):\n",
    "    \n",
    "    for ordered_product in customer_orders:\n",
    "        if ordered_product in inventory:\n",
    "            if inventory[ordered_product] > 0:\n",
    "                inventory[ordered_product] -= 1\n",
    "  \n",
    "            if inventory[ordered_product] == 0:\n",
    "                del inventory[ordered_product]\n",
    "        else:\n",
    "            print(f\"Error: {ordered_product} is not in the inventory.\")\n",
    "    \n",
    "\n",
    "    inventory = {product: quantity for product, quantity in inventory.items() if quantity > 0}\n",
    "    \n",
    "    return inventory"
   ]
  },
  {
   "cell_type": "code",
   "execution_count": null,
   "id": "9daeaf3c-ccf0-424c-8dbc-c22bfe3b2d1f",
   "metadata": {},
   "outputs": [],
   "source": [
    "#5\n",
    "def calculate_total_price(customer_orders):\n",
    "    # Usamos comprensión de lista para recopilar los precios de cada producto en customer_orders\n",
    "    total_price = sum([float(input(f\"Enter the price for {product}: \")) for product in customer_orders])\n",
    "    \n",
    "    return total_price\n",
    "\n",
    "def print_total_price(customer_orders):\n",
    "    total_price = calculate_total_price(customer_orders)\n",
    "    print(f\"The total price of the customer order is: ${total_price:.2f}\")\n"
   ]
  }
 ],
 "metadata": {
  "kernelspec": {
   "display_name": "Python [conda env:base] *",
   "language": "python",
   "name": "conda-base-py"
  },
  "language_info": {
   "codemirror_mode": {
    "name": "ipython",
    "version": 3
   },
   "file_extension": ".py",
   "mimetype": "text/x-python",
   "name": "python",
   "nbconvert_exporter": "python",
   "pygments_lexer": "ipython3",
   "version": "3.12.7"
  }
 },
 "nbformat": 4,
 "nbformat_minor": 5
}
