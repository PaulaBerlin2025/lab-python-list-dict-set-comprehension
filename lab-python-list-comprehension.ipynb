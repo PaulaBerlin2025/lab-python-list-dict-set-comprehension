{
 "cells": [
  {
   "cell_type": "markdown",
   "id": "25d7736c-ba17-4aff-b6bb-66eba20fbf4e",
   "metadata": {},
   "source": [
    "# Lab | List, Dict and Set Comprehension"
   ]
  },
  {
   "cell_type": "markdown",
   "id": "7dd3cbde-675a-4b81-92c3-f728846dbe06",
   "metadata": {},
   "source": [
    "## Exercise: Managing Customer Orders Optimized with Comprehension"
   ]
  },
  {
   "cell_type": "code",
   "execution_count": null,
   "id": "8de4e5a9-f5cc-4678-8dce-b08485334696",
   "metadata": {},
   "outputs": [],
   "source": [
    "#1 \n",
    "def initialize_inventory(products):\n",
    "    inventory= {product: int(input(f\"Enter the quantity for {product}: \")) for product in products}\n",
    "    return inventory\n",
    "\n",
    "\n",
    "def update_inventory(customer_orders, inventory):\n",
    "    for ordered_product in customer_orders:\n",
    "        if ordered_product in inventory:\n",
    "            inventory[ordered_product] = max(0, inventory[ordered_product] - 1)\n",
    "        else:\n",
    "            print(f\"Error: {ordered_product} is not in the inventory.\")\n",
    "\n",
    "def print_updated_inventory(inventory):\n",
    "    print(\"Updated Inventory:\")\n",
    "    print(\"\\n\".join([f\"{product}: {quantity}\" for product, quantity in inventory.items()]))\n",
    "\n"
   ]
  },
  {
   "cell_type": "code",
   "execution_count": null,
   "id": "2da17a45-2b8c-4454-94b4-57976dedfa14",
   "metadata": {},
   "outputs": [],
   "source": [
    "#2\n",
    "def get_customer_orders():\n",
    "    num_orders = int(input(\"Enter the number of customer orders: \"))\n",
    "    return {input(\"Enter the name of a product that a customer wants to order: \") for _ in range(num_orders)}"
   ]
  },
  {
   "cell_type": "code",
   "execution_count": null,
   "id": "8ada4e22-1ead-4f41-aa11-f44929483c48",
   "metadata": {},
   "outputs": [],
   "source": [
    "#3\n",
    "def calculate_total_price(customer_orders):\n",
    "    total_price = sum([float(input(f\"Enter the price for {product}: \")) for product in customer_orders])\n",
    "    \n",
    "    return total_price\n"
   ]
  },
  {
   "cell_type": "code",
   "execution_count": null,
   "id": "84826b3a-a093-4a2a-b163-899c8640a954",
   "metadata": {},
   "outputs": [],
   "source": [
    "#4\n",
    "def update_inventory(customer_orders, inventory):\n",
    "    \n",
    "    for ordered_product in customer_orders:\n",
    "        if ordered_product in inventory:\n",
    "            if inventory[ordered_product] > 0:\n",
    "                inventory[ordered_product] -= 1\n",
    "  \n",
    "            if inventory[ordered_product] == 0:\n",
    "                del inventory[ordered_product]\n",
    "        else:\n",
    "            print(f\"Error: {ordered_product} is not in the inventory.\")\n",
    "    \n",
    "\n",
    "    inventory = {product: quantity for product, quantity in inventory.items() if quantity > 0}\n",
    "    \n",
    "    return inventory"
   ]
  },
  {
   "cell_type": "code",
   "execution_count": null,
   "id": "9daeaf3c-ccf0-424c-8dbc-c22bfe3b2d1f",
   "metadata": {},
   "outputs": [],
   "source": [
    "#5\n",
    "def calculate_total_price(customer_orders):\n",
    "    # Usamos comprensión de lista para recopilar los precios de cada producto en customer_orders\n",
    "    total_price = sum([float(input(f\"Enter the price for {product}: \")) for product in customer_orders])\n",
    "    \n",
    "    return total_price\n",
    "\n",
    "def print_total_price(customer_orders):\n",
    "    total_price = calculate_total_price(customer_orders)\n",
    "    print(f\"The total price of the customer order is: ${total_price:.2f}\")\n"
   ]
  }
 ],
 "metadata": {
  "kernelspec": {
   "display_name": "Python [conda env:base] *",
   "language": "python",
   "name": "conda-base-py"
  },
  "language_info": {
   "codemirror_mode": {
    "name": "ipython",
    "version": 3
   },
   "file_extension": ".py",
   "mimetype": "text/x-python",
   "name": "python",
   "nbconvert_exporter": "python",
   "pygments_lexer": "ipython3",
   "version": "3.12.7"
  }
 },
 "nbformat": 4,
 "nbformat_minor": 5
}
